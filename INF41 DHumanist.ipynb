{
 "cells": [
  {
   "cell_type": "markdown",
   "metadata": {},
   "source": [
    "# [INF41] DH Humanist Mail Archive \n",
    "\n",
    "##Text mining brouillon \n",
    "\n",
    "Ressources utiles pour le projet : \n",
    "    \n",
    "* Enron mail dataset https://www.kaggle.com/stephensebastin/topic-modeling-enron-email-dataset-updated (topic modeling) et https://www.kaggle.com/jamestollefson/enron-network-analysis (réseau)\n",
    "\n",
    "* Exploring the Music Library Association Mailing List: A TextMining Approach http://kahyunchoi.com/papers/ismir2017_xhu.pdf\n",
    "        \n",
    "* Latent Dirichlet Allocation https://radimrehurek.com/gensim/models/ldamodel.html   \n",
    "    \n",
    "* Topic Modeling Genre: An Exploration of French Classical and Enlightenment Drama (Topic modeling mais avec MALLET en java) http://www.digitalhumanities.org/dhq/vol/11/2/000291/000291.html \n",
    "    \n",
    "* http://voyant.tools.huma-num.fr/\n",
    "    \n",
    "* David Blei et une de ces publications introductives : Probabilistic Topic Models, Communications of the ACM, Volume 55 Issue 4, pp. 77-84, 2012.\n",
    "\n",
    "* Cours de Julien Velcin sur la fouille de texte  et http://mediamining.univ-lyon2.fr/velcin/public/TM/introduction.pdf & http://mediamining.univ-lyon2.fr/velcin/public/HN/intro_fouilledetextes.pdf\n",
    "    "
   ]
  },
  {
   "cell_type": "markdown",
   "metadata": {},
   "source": [
    "A des fins de test, ce brouillon utilise l'archive humanist.2007-2008.txt' (Converted Text bien plus lisible) dispo ici http://dhhumanist.org/Archives/Converted_Text/ \n",
    "(étude en généralisation à prévoir)    \n",
    "    "
   ]
  },
  {
   "cell_type": "code",
   "execution_count": 62,
   "metadata": {},
   "outputs": [],
   "source": [
    "# setup des bibliothèques nécessaires en vrac dsl\n",
    "#manipulation des données regex etc...\n",
    "import pandas as pd\n",
    "import os, sys, email,re\n",
    "import os.path\n",
    "from optparse import OptionParser\n",
    "import numpy as np\n",
    "\n",
    "# Plotting et visualisation \n",
    "import matplotlib.pyplot as plt\n",
    "%matplotlib inline\n",
    "import seaborn as sns; sns.set_style('whitegrid')\n",
    "# fail to import wordcloud ???\n",
    "\n",
    "#nlp et corpus\n",
    "import gensim\n",
    "from gensim import corpora\n",
    "from nltk.corpus import stopwords \n",
    "from nltk.stem.wordnet import WordNetLemmatizer\n",
    "import string\n",
    "from nltk.stem.porter import PorterStemmer\n",
    "from nltk.tokenize.regexp import RegexpTokenizer\n",
    "from subprocess import check_output\n",
    "\n",
    "# algos : clustering TF-IDF, LDA et PCa\n",
    "from sklearn.feature_extraction.text import TfidfVectorizer,CountVectorizer\n",
    "from sklearn.cluster import KMeans\n",
    "from sklearn.metrics import adjusted_rand_score\n",
    "from sklearn.decomposition import PCA\n",
    "from sklearn.decomposition import LatentDirichletAllocation\n",
    "# études en réseau \n",
    "import networkx as nx\n",
    "\n",
    "\n"
   ]
  },
  {
   "cell_type": "code",
   "execution_count": 96,
   "metadata": {
    "scrolled": false
   },
   "outputs": [],
   "source": [
    "#chargement des données brutes nomenclature des variables h=humanist ct=convertedtext 0708=années\n",
    "with open(\"C://Users//henry//AnacondaProjects//humanist//humanist.2007-2008.txt\", 'r', encoding='ANSI') as hct0708:\n",
    "    hct0708 = [line.strip() for line in hct0708.readlines()]\n",
    "vectorizer = CountVectorizer( encoding='utf-8', max_df=1, stop_words='english')\n",
    "vectorizer.fit(hct0708)\n",
    "#liste des features \n",
    "vocab = vectorizer.get_feature_names()\n",
    "#vocabulaire vectorisé\n",
    "vv = vectorizer.vocabulary_\n",
    "\n",
    "#mis en commentaire pour plus de lisibilité\n",
    "#type(vv)\n",
    "#len(vv)\n",
    "#print(vv)"
   ]
  },
  {
   "cell_type": "markdown",
   "metadata": {},
   "source": [
    "Utilisation de regex pour récupérer des éléments du corpus"
   ]
  },
  {
   "cell_type": "code",
   "execution_count": 63,
   "metadata": {
    "scrolled": true
   },
   "outputs": [
    {
     "ename": "SyntaxError",
     "evalue": "unexpected EOF while parsing (<ipython-input-63-bfc4013766bc>, line 6)",
     "output_type": "error",
     "traceback": [
      "\u001b[1;36m  File \u001b[1;32m\"<ipython-input-63-bfc4013766bc>\"\u001b[1;36m, line \u001b[1;32m6\u001b[0m\n\u001b[1;33m    #   print(line)\u001b[0m\n\u001b[1;37m                   ^\u001b[0m\n\u001b[1;31mSyntaxError\u001b[0m\u001b[1;31m:\u001b[0m unexpected EOF while parsing\n"
     ]
    }
   ],
   "source": [
    "# récupération des adresses mails dans le corpus avec une re\n",
    "for line in hct0708 :\n",
    "    if re.findall(r'[\\w\\.-]+@[\\w\\.-]+(\\.[\\w]+)+',line):\n",
    "        # commenté pour alléger le notebook\n",
    "     #   print(line)"
   ]
  },
  {
   "cell_type": "code",
   "execution_count": 108,
   "metadata": {},
   "outputs": [
    {
     "ename": "SyntaxError",
     "evalue": "unexpected EOF while parsing (<ipython-input-108-105f873d84ec>, line 11)",
     "output_type": "error",
     "traceback": [
      "\u001b[1;36m  File \u001b[1;32m\"<ipython-input-108-105f873d84ec>\"\u001b[1;36m, line \u001b[1;32m11\u001b[0m\n\u001b[1;33m    #X-Humanist:\u001b[0m\n\u001b[1;37m                 ^\u001b[0m\n\u001b[1;31mSyntaxError\u001b[0m\u001b[1;31m:\u001b[0m unexpected EOF while parsing\n"
     ]
    }
   ],
   "source": [
    "with open(\"C://Users//henry//AnacondaProjects//humanist//humanist.2007-2008.txt\", 'r', encoding='ANSI') as hct0708:\n",
    "    hct0708 = [line.strip() for line in hct0708.readlines()]\n",
    "for line in hct0708 :\n",
    "    if re.search(r'Subject:\\s+(.*)',line):\n",
    "    #commenté pour alléger le notebook\n",
    "    #print(line)\n",
    "#    Il est possble d'utiliser une regex similaire pour les en-tetes suivants \n",
    "#re.search(r'From:\\s+(.*)',line):\n",
    "#Subject: Humanist's 20th\n",
    "#Date: \n",
    "#X-Humanist: "
   ]
  },
  {
   "cell_type": "code",
   "execution_count": 42,
   "metadata": {},
   "outputs": [
    {
     "data": {
      "image/png": "[encoded data removed]",
      "text/plain": [
       "<matplotlib.figure.Figure at 0x1c7533f15f8>"
      ]
     },
     "metadata": {},
     "output_type": "display_data"
    }
   ],
   "source": [
    "#peu pertinant de dessiner le plot du vocabulaire à ce stade là \n",
    "D = vv\n",
    "plt.barh(range(len(D)), D.values(), align='center')\n",
    "plt.xticks(range(len(D)), list(D.keys()))\n",
    "\n",
    "plt.show()"
   ]
  },
  {
   "cell_type": "code",
   "execution_count": 83,
   "metadata": {},
   "outputs": [
    {
     "data": {
      "text/plain": [
       "(0, 9180)"
      ]
     },
     "execution_count": 83,
     "metadata": {},
     "output_type": "execute_result"
    }
   ],
   "source": [
    "lines_bag_of_words = vectorizer.transform(hct0708).toarray()\n",
    "lines_bag_of_words.shape\n"
   ]
  },
  {
   "cell_type": "code",
   "execution_count": 111,
   "metadata": {},
   "outputs": [
    {
     "data": {
      "text/plain": [
       "TfidfVectorizer(analyzer='word', binary=False, decode_error='strict',\n",
       "        dtype=<class 'numpy.int64'>, encoding='utf-8', input='content',\n",
       "        lowercase=False, max_df=1.0, max_features=None, min_df=1,\n",
       "        ngram_range=(1, 1), norm='l2', preprocessor=None, smooth_idf=True,\n",
       "        stop_words='english', strip_accents=None, sublinear_tf=False,\n",
       "        token_pattern='(?u)\\\\b\\\\w\\\\w+\\\\b', tokenizer=None, use_idf=True,\n",
       "        vocabulary=None)"
      ]
     },
     "execution_count": 111,
     "metadata": {},
     "output_type": "execute_result"
    }
   ],
   "source": [
    "tfidf_vectorizer = TfidfVectorizer(lowercase=False, stop_words='english' )\n",
    "tfidf_vectorizer.fit(hct0708)\n",
    "# commenté pour alléger le notebook\n",
    "#tfidf_vectorizer.vocabulary_ \n",
    "\n",
    "\n"
   ]
  },
  {
   "cell_type": "code",
   "execution_count": 113,
   "metadata": {},
   "outputs": [
    {
     "ename": "NameError",
     "evalue": "name 'top_tfidf_feats' is not defined",
     "output_type": "error",
     "traceback": [
      "\u001b[1;31m---------------------------------------------------------------------------\u001b[0m",
      "\u001b[1;31mNameError\u001b[0m                                 Traceback (most recent call last)",
      "\u001b[1;32m<ipython-input-113-6457182ed811>\u001b[0m in \u001b[0;36m<module>\u001b[1;34m()\u001b[0m\n\u001b[0;32m     10\u001b[0m     \u001b[1;32mreturn\u001b[0m \u001b[0mtop_tfidf_feats\u001b[0m\u001b[1;33m(\u001b[0m\u001b[0mtfidf_means\u001b[0m\u001b[1;33m,\u001b[0m \u001b[0mfeatures\u001b[0m\u001b[1;33m,\u001b[0m \u001b[0mtop_n\u001b[0m\u001b[1;33m)\u001b[0m\u001b[1;33m\u001b[0m\u001b[0m\n\u001b[0;32m     11\u001b[0m \u001b[1;33m\u001b[0m\u001b[0m\n\u001b[1;32m---> 12\u001b[1;33m \u001b[0mtop_mean_feats\u001b[0m\u001b[1;33m(\u001b[0m\u001b[0mX_hct0708\u001b[0m\u001b[1;33m,\u001b[0m \u001b[0mfeatures_hct0708\u001b[0m\u001b[1;33m)\u001b[0m\u001b[1;33m\u001b[0m\u001b[0m\n\u001b[0m",
      "\u001b[1;32m<ipython-input-113-6457182ed811>\u001b[0m in \u001b[0;36mtop_mean_feats\u001b[1;34m(Xtr, features, grp_ids, min_tfidf, top_n)\u001b[0m\n\u001b[0;32m      8\u001b[0m     \u001b[1;34m''' D[D < min_tfidf] = 0 '''\u001b[0m\u001b[1;33m\u001b[0m\u001b[0m\n\u001b[0;32m      9\u001b[0m     \u001b[0mtfidf_means\u001b[0m \u001b[1;33m=\u001b[0m \u001b[0mnp\u001b[0m\u001b[1;33m.\u001b[0m\u001b[0mmean\u001b[0m\u001b[1;33m(\u001b[0m\u001b[0mD\u001b[0m\u001b[1;33m,\u001b[0m \u001b[0maxis\u001b[0m\u001b[1;33m=\u001b[0m\u001b[1;36m0\u001b[0m\u001b[1;33m)\u001b[0m\u001b[1;33m\u001b[0m\u001b[0m\n\u001b[1;32m---> 10\u001b[1;33m     \u001b[1;32mreturn\u001b[0m \u001b[0mtop_tfidf_feats\u001b[0m\u001b[1;33m(\u001b[0m\u001b[0mtfidf_means\u001b[0m\u001b[1;33m,\u001b[0m \u001b[0mfeatures\u001b[0m\u001b[1;33m,\u001b[0m \u001b[0mtop_n\u001b[0m\u001b[1;33m)\u001b[0m\u001b[1;33m\u001b[0m\u001b[0m\n\u001b[0m\u001b[0;32m     11\u001b[0m \u001b[1;33m\u001b[0m\u001b[0m\n\u001b[0;32m     12\u001b[0m \u001b[0mtop_mean_feats\u001b[0m\u001b[1;33m(\u001b[0m\u001b[0mX_hct0708\u001b[0m\u001b[1;33m,\u001b[0m \u001b[0mfeatures_hct0708\u001b[0m\u001b[1;33m)\u001b[0m\u001b[1;33m\u001b[0m\u001b[0m\n",
      "\u001b[1;31mNameError\u001b[0m: name 'top_tfidf_feats' is not defined"
     ]
    }
   ],
   "source": [
    "def top_mean_feats(Xtr, features, grp_ids=None, min_tfidf=0.1, top_n=25):\n",
    "  #  ''' Return the top n features that on average are most important amongst documents in rows\n",
    "#     indentified by indices in grp_ids. '''\n",
    "    if grp_ids:\n",
    "        D = Xtr[grp_ids].toarray()\n",
    "    else:\n",
    "        D = Xtr.toarray()\n",
    "    ''' D[D < min_tfidf] = 0 '''\n",
    "    tfidf_means = np.mean(D, axis=0)\n",
    "    return top_tfidf_feats(tfidf_means, features, top_n)\n",
    "\n",
    "top_mean_feats(X_hct0708, features_hct0708)"
   ]
  },
  {
   "cell_type": "markdown",
   "metadata": {},
   "source": [
    "En complément de Count vectorizer, utilisation de TfidfVectorizer. TFxIDF (term frequency-inverse document frequency) permet d’évaluer l’importance des mots dans ce corpus. (plus le mot sera fréquent, plus son poids sera élevé)."
   ]
  },
  {
   "cell_type": "code",
   "execution_count": null,
   "metadata": {},
   "outputs": [],
   "source": [
    "#Affichage des mots les plus fréquents (selon TFxIDF) :\n",
    "X_hct0708 = tfidf_vectorizer.transform(hct0708)\n",
    "features_hct0708 = tfidf_vectorizer.get_feature_names()\n",
    "\n",
    "D_tf = X_hct0708.toarray()\n",
    "tf_sum = np.sum(D_tf, axis=0)\n",
    "top_tfidf_feats(tf_sum, features_hct0708)"
   ]
  },
  {
   "cell_type": "markdown",
   "metadata": {},
   "source": [
    "Utilisation du formalisme sac de mots pour déterminer la forme du corpus. On peut maintenant construire la matrice documents * termes : à l’aide de ce sac. Ne disposant pas de catégories nous ne pouvons pas appliquer d’apprentissage supervisé Pour déterminer quel algorithme appliquer, j’ai fait appel à cette carte.http://scikit-learn.org/stable/tutorial/machine_learning_map/index.html Pour ce type de données, le clustering semble plus indiqué : cela va permettre d’utiliser la distance euclidienne pour grouper les mots les plus proches les uns des autres dans notre corpus."
   ]
  },
  {
   "cell_type": "code",
   "execution_count": 128,
   "metadata": {
    "scrolled": true
   },
   "outputs": [
    {
     "name": "stdout",
     "output_type": "stream",
     "text": [
      "Termes les plus fréquents par clusters\n",
      "Cluster 0:\n",
      " http\n",
      " www\n",
      " href\n",
      " org\n",
      " uk\n",
      " ac\n",
      " edu\n",
      " com\n",
      " html\n",
      " kcl\n",
      "Cluster 1:\n",
      " Vol\n",
      " Num\n",
      " Humanist\n",
      " 21\n",
      " 22\n",
      " 429\n",
      " 261\n",
      " No\n",
      " 45\n",
      " Brook\n",
      "Cluster 2:\n",
      " Computing\n",
      " Humanities\n",
      " Willard\n",
      " McCarty\n",
      " London\n",
      " King\n",
      " College\n",
      " Centre\n",
      " mccarty_at_kcl\n",
      " willard\n",
      "Cluster 3:\n",
      " development\n",
      " support\n",
      " services\n",
      " software\n",
      " research\n",
      " technical\n",
      " digital\n",
      " The\n",
      " projects\n",
      " use\n",
      "Cluster 4:\n",
      " following\n",
      " topics\n",
      " areas\n",
      " message\n",
      " The\n",
      " include\n",
      " range\n",
      " research\n",
      " invited\n",
      " sections\n",
      "Cluster 5:\n",
      " new\n",
      " work\n",
      " data\n",
      " researchers\n",
      " media\n",
      " The\n",
      " digital\n",
      " research\n",
      " humanities\n",
      " field\n",
      "Cluster 6:\n",
      " The\n",
      " University\n",
      " Subject\n",
      " 2008\n",
      " From\n",
      " research\n",
      " Digital\n",
      " 2007\n",
      " information\n",
      " conference\n",
      "Cluster 7:\n",
      " Date\n",
      " 2007\n",
      " 0100\n",
      " 06\n",
      " 0000\n",
      " Wed\n",
      " Tue\n",
      " 08\n",
      " 07\n",
      " 09\n"
     ]
    }
   ],
   "source": [
    "clustering = KMeans(n_clusters=8, init='k-means++', max_iter=1000, n_init=1)\n",
    "clustering.fit(X_hct0708)\n",
    "#nous souhaitons affichcher les clusters avec les termes les plus proches les uns des autres dans les titres\n",
    "print(\"Termes les plus fréquents par clusters\")\n",
    "centroides = clustering.cluster_centers_.argsort()[:, ::-1]\n",
    "termes = features_hct0708\n",
    "for i in range(8):\n",
    "    print(\"Cluster %d:\" % i),\n",
    "    for ind in centroides[i, :10]:\n",
    "        print(' %s' % termes[ind]),\n",
    "    print"
   ]
  },
  {
   "cell_type": "markdown",
   "metadata": {},
   "source": [
    "# Conclusion \n",
    "* les regex pourront nous servir pour extraire les informations liées aux sujets, expéditeurs des mails ou àccéder à des chaines de caractères si besoin. \n",
    "* les analyse par _Vector Space model_ et le clustering par Kmeans sont inexploitables  : le besoin de stopwords personnalisés se fait sentir. \n",
    "* pour la suite  Modèle probabiliste avec Allocation de Dirichlet Latente  plus adaptée ? [en cours] \n"
   ]
  },
  {
   "cell_type": "code",
   "execution_count": 133,
   "metadata": {},
   "outputs": [],
   "source": [
    "#tentative de LDA .... \n",
    "#id2word = gensim.corpora.Dictionary.load_from_text(hct0708)\n",
    "#lda = gensim.models.ldamodel.LdaModel(corpus=X_hct0708, id2word=id2word, num_topics=10, update_every=0, passes=200)\n"
   ]
  }
 ],
 "metadata": {
  "kernelspec": {
   "display_name": "Python 3",
   "language": "python",
   "name": "python3"
  },
  "language_info": {
   "codemirror_mode": {
    "name": "ipython",
    "version": 3
   },
   "file_extension": ".py",
   "mimetype": "text/x-python",
   "name": "python",
   "nbconvert_exporter": "python",
   "pygments_lexer": "ipython3",
   "version": "3.6.2"
  }
 },
 "nbformat": 4,
 "nbformat_minor": 2
}
